{
 "cells": [
  {
   "cell_type": "code",
   "execution_count": 1,
   "metadata": {},
   "outputs": [],
   "source": [
    "import numpy as np\n",
    "from sklearn.model_selection import train_test_split\n",
    "from sklearn.preprocessing import StandardScaler\n",
    "from sklearn.linear_model import LassoCV\n",
    "from sklearn.metrics import mean_squared_error\n",
    "\n",
    "from RFS import RandomizedForwardSelection, step, RandomizedForwardSelectionV2\n",
    "\n",
    "# Generate synthetic data\n",
    "np.random.seed(42)\n",
    "n, p = 5000, 500  # 100 samples, 50 features\n",
    "\n",
    "# Create base features\n",
    "X = np.random.randn(n, p)\n",
    "\n",
    "# Introduce correlations\n",
    "X[:, 1] = 0 * X[:, 0] + 0.3 * np.random.randn(n)  # Correlated with feature 0\n",
    "X[:, 3] = 0 * X[:, 2] + 0.4 * np.random.randn(n)  # Correlated with feature 2\n",
    "X[:, 5] = 0 * X[:, 0] + 0 * X[:, 4] + 0.1 * np.random.randn(n)  # Correlated with features 0 and 4\n",
    "\n",
    "# Create true coefficients (some zero, some non-zero)\n",
    "true_coef = np.zeros(p)\n",
    "true_coef[:6] = [1.5, -0.8, 1.2, -0.5, 0.7, -0.3]  # Only first 6 features are relevant\n",
    "\n",
    "# Create the target variable (linear model)\n",
    "y = X @ true_coef + np.random.normal(0, 1, n)  # Add some noise\n",
    "\n",
    "# Split data into train and test sets\n",
    "X_train, X_test, y_train, y_test = train_test_split(X, y, test_size=0.2, random_state=42)\n",
    "\n",
    "# Standardize features\n",
    "scaler = StandardScaler()\n",
    "X_train_scaled = scaler.fit_transform(X_train)\n",
    "X_test_scaled = scaler.transform(X_test)"
   ]
  },
  {
   "cell_type": "code",
   "execution_count": 10,
   "metadata": {},
   "outputs": [],
   "source": [
    "rfs = RandomizedForwardSelectionV2(k=10, m=200, tol=1, resample=True)\n",
    "rfs.fit(X, y)"
   ]
  },
  {
   "cell_type": "code",
   "execution_count": 4,
   "metadata": {},
   "outputs": [
    {
     "data": {
      "text/plain": [
       "(1.0198521977881008, 1.0409735104433)"
      ]
     },
     "execution_count": 4,
     "metadata": {},
     "output_type": "execute_result"
    }
   ],
   "source": [
    "mean_squared_error(rfs.predict(X_test), y_test), mean_squared_error(lasso.predict(X_test), y_test)"
   ]
  },
  {
   "cell_type": "code",
   "execution_count": 4,
   "metadata": {},
   "outputs": [
    {
     "data": {
      "text/plain": [
       "array([249, 336, 335, 334, 333, 332, 331, 330, 329, 328, 327, 326, 325,\n",
       "       337, 324, 322, 320, 319, 318, 317, 316, 315, 314, 313, 312, 311,\n",
       "       310, 323, 338, 340, 341, 368, 367, 366, 365, 364, 363, 362, 361,\n",
       "       360, 359, 358, 357, 356, 355, 354, 353, 352, 351, 350, 349, 348,\n",
       "       347, 346, 345, 344, 343, 342, 309, 369, 308, 306, 273, 272, 271,\n",
       "       270, 269, 268, 267, 266, 265, 264, 263, 262, 274, 261, 259, 258,\n",
       "       257, 256, 255, 254, 253, 252, 251, 250, 498, 247, 260, 276, 277,\n",
       "       278, 305, 304, 303, 302, 301, 300, 299, 298, 297, 296, 295, 294,\n",
       "       293, 292, 291, 290, 289, 288, 287, 286, 285, 284, 283, 282, 281,\n",
       "       280, 279, 307, 370, 371, 372, 464, 463, 462, 461, 460, 459, 458,\n",
       "       457, 456, 455, 454, 453, 465, 452, 450, 448, 447, 446, 445, 444,\n",
       "       443, 442, 441, 440, 438, 437, 451, 466, 467, 468, 497, 496, 495,\n",
       "       494, 492, 491, 490, 489, 488, 487, 486, 485, 484, 483, 482, 481,\n",
       "       479, 478, 477, 476, 475, 474, 473, 472, 471, 470, 469, 436, 435,\n",
       "       433, 432, 400, 399, 398, 397, 396, 395, 394, 393, 392, 391, 390,\n",
       "       389, 388, 387, 386, 384, 383, 382, 381, 380, 379, 378, 377, 376,\n",
       "       375, 374, 373, 401, 246, 402, 404, 431, 430, 429, 428, 427, 426,\n",
       "       425, 424, 423, 422, 421, 420, 419, 418, 417, 416, 415, 414, 413,\n",
       "       412, 411, 410, 409, 408, 407, 406, 405, 403, 245, 499, 243,  94,\n",
       "        93,  92,  91,  90,  89,  88,  87,  86,  85,  84,  83,  95,  82,\n",
       "        80,  79,  78,  77,  76,  75,  74,  73,  72,  71,  70,  69,  81,\n",
       "        68,  96,  98, 125, 124, 123, 122, 121, 244, 119, 118, 117, 116,\n",
       "       115, 114,  97, 113, 111, 110, 109, 108, 107, 106, 104, 103, 102,\n",
       "       101, 100,  99, 112, 126,  67,  65,  32,  31,  30,  29,  28,  27,\n",
       "        26,  25,  24,  23,  22,  21,  33,  20,  18,  17,  16,  15,  14,\n",
       "        13,  12,  11,  10,   8,   7,   6,  19,  66,  34,  36,  64,  63,\n",
       "        62,  61,  59,  58,  56,  55,  54,  53,  52,  51,  35,  50,  48,\n",
       "        47,  46,  45,  44,  43,  42,  41,  40,  39,  38,  37,  49, 127,\n",
       "       120, 129, 211, 210, 208, 207, 206, 205, 203, 202, 201, 200, 199,\n",
       "       198, 197, 196, 195, 194, 193, 128, 191, 190, 189, 188, 187, 186,\n",
       "       185, 212, 184, 213, 215, 242, 241, 240, 239, 238, 237, 236, 235,\n",
       "       234, 233, 232, 231, 229, 228, 227, 226, 225, 223, 222, 221, 220,\n",
       "       219, 218, 217, 216, 214, 183, 192, 181, 136, 157, 156, 155, 154,\n",
       "       153, 182, 152, 151, 150, 149, 159, 132, 146, 145, 144, 133, 142,\n",
       "       134, 141, 140, 139, 138, 137, 148, 160, 158, 170, 180, 179, 178,\n",
       "       130, 175, 174, 173, 172, 171, 161, 131, 135, 166, 169, 162, 168,\n",
       "       163, 164, 165, 167, 275, 449, 177, 434, 209, 248, 204,  60,  57,\n",
       "       480, 105, 224, 147, 339, 143, 385, 176, 230, 493,   9, 321, 439,\n",
       "         5,   3,   4,   1,   2,   0])"
      ]
     },
     "execution_count": 4,
     "metadata": {},
     "output_type": "execute_result"
    }
   ],
   "source": [
    "np.abs(rfs.coef_).argsort()"
   ]
  },
  {
   "cell_type": "code",
   "execution_count": 3,
   "metadata": {},
   "outputs": [
    {
     "data": {
      "text/plain": [
       "array([249, 336, 335, 334, 333, 332, 331, 330, 329, 328, 327, 326, 325,\n",
       "       337, 324, 322, 320, 319, 318, 317, 316, 315, 314, 313, 312, 311,\n",
       "       310, 323, 338, 340, 341, 369, 368, 367, 366, 365, 364, 363, 362,\n",
       "       361, 360, 359, 358, 357, 356, 355, 354, 353, 352, 351, 350, 349,\n",
       "       348, 347, 346, 345, 344, 342, 309, 370, 308, 306, 273, 272, 271,\n",
       "       270, 269, 268, 267, 266, 265, 264, 263, 262, 274, 261, 258, 257,\n",
       "       256, 255, 254, 253, 252, 251, 250, 498, 247, 246, 260, 275, 276,\n",
       "       277, 305, 304, 302, 301, 300, 299, 298, 297, 296, 295, 294, 293,\n",
       "       292, 291, 290, 289, 288, 287, 286, 285, 284, 283, 282, 281, 280,\n",
       "       279, 278, 307, 245, 371, 373, 464, 463, 461, 460, 459, 458, 457,\n",
       "       456, 455, 454, 453, 452, 465, 451, 449, 448, 447, 446, 445, 444,\n",
       "       443, 442, 441, 440, 438, 437, 450, 466, 467, 468, 497, 496, 495,\n",
       "       492, 491, 490, 489, 488, 487, 486, 485, 484, 483, 482, 481, 480,\n",
       "       479, 478, 477, 476, 475, 474, 473, 472, 471, 470, 469, 436, 372,\n",
       "       435, 432, 400, 399, 398, 397, 396, 395, 394, 393, 392, 391, 390,\n",
       "       389, 401, 388, 386, 384, 383, 382, 381, 380, 379, 378, 377, 376,\n",
       "       375, 374, 387, 402, 403, 404, 431, 430, 429, 428, 427, 426, 425,\n",
       "       424, 423, 422, 421, 420, 419, 418, 417, 416, 415, 414, 413, 412,\n",
       "       411, 410, 409, 408, 407, 406, 405, 433, 244, 499, 242,  93,  92,\n",
       "        91,  90,  89,  88,  87,  86,  85,  84,  83,  82,  94,  81,  79,\n",
       "        78,  77,  76,  75,  74,  73,  72,  71,  70,  69,  68,  80,  95,\n",
       "        96,  97, 124, 123, 122, 243, 120, 119, 118, 117, 116, 115, 114,\n",
       "       113, 112, 111, 110, 109, 108, 107, 106, 105, 104, 103, 102, 101,\n",
       "       100,  99,  98,  67, 125,  66,  64,  31,  30,  29,  28,  27,  26,\n",
       "        25,  24,  23,  22,  21,  20,  32,  19,  17,  16,  15,  14,  13,\n",
       "        12,  11,  10,   8,   7,   6,   5,  18,  33,  34,  35,  63,  62,\n",
       "        61,  60,  59,  58,  56,  55,  54,  53,  52,  51,  50,  49,  48,\n",
       "        47,  46,  45,  44,  43,  42,  41,  40,  39,  38,  37,  36,  65,\n",
       "       126, 121, 128, 209, 208, 207, 206, 205, 203, 202, 201, 200, 199,\n",
       "       198, 197, 196, 195, 194, 193, 192, 191, 190, 127, 188, 187, 186,\n",
       "       185, 184, 210, 183, 211, 213, 241, 240, 239, 238, 237, 236, 235,\n",
       "       233, 232, 231, 229, 228, 227, 226, 225, 223, 222, 221, 220, 219,\n",
       "       218, 217, 216, 215, 214, 212, 182, 189, 180, 155, 154, 153, 152,\n",
       "       151, 181, 149, 148, 146, 145, 144, 142, 141, 140, 139, 138, 137,\n",
       "       136, 135, 134, 133, 132, 131, 130, 129, 156, 157, 150, 159, 158,\n",
       "       171, 172, 173, 168, 174, 175, 167, 169, 166, 165, 164, 178, 163,\n",
       "       162, 161, 160, 179, 170, 177, 462, 259, 204, 343, 248, 303, 434,\n",
       "       234, 494, 147, 143,  57, 224, 385, 339, 176, 493, 230,   9, 439,\n",
       "       321,   3,   1,   4,   2,   0])"
      ]
     },
     "execution_count": 3,
     "metadata": {},
     "output_type": "execute_result"
    }
   ],
   "source": [
    "lasso = LassoCV()\n",
    "lasso.fit(X, y)\n",
    "np.abs(lasso.coef_).argsort()"
   ]
  },
  {
   "cell_type": "code",
   "execution_count": 8,
   "metadata": {},
   "outputs": [
    {
     "data": {
      "text/plain": [
       "930"
      ]
     },
     "execution_count": 8,
     "metadata": {},
     "output_type": "execute_result"
    }
   ],
   "source": [
    "sum(rfs.trajectory[8].values())"
   ]
  },
  {
   "cell_type": "code",
   "execution_count": 22,
   "metadata": {},
   "outputs": [],
   "source": [
    "rfs2 = RandomizedForwardSelection(k=3, m=200)\n",
    "rfs2.fit(X, y)"
   ]
  },
  {
   "cell_type": "code",
   "execution_count": 2,
   "metadata": {},
   "outputs": [],
   "source": [
    "generator = np.random.default_rng(42)\n",
    "result = step(frozenset(), X_train, y_train, 30, 1000, generator)"
   ]
  },
  {
   "cell_type": "code",
   "execution_count": 3,
   "metadata": {},
   "outputs": [
    {
     "data": {
      "text/plain": [
       "array([-2.05667258, -1.94949425,  0.70389263, -1.70329769,  0.47938517,\n",
       "       -1.384011  , -1.73853927, -0.61452961, -0.04921108,  0.5504136 ,\n",
       "       -1.00732492,  0.20927401, -1.53075781, -1.60142563, -0.33865719,\n",
       "        0.49207626, -3.48415817,  1.71126122, -0.11015187,  0.69212383])"
      ]
     },
     "execution_count": 3,
     "metadata": {},
     "output_type": "execute_result"
    }
   ],
   "source": [
    "rfs.predict(X_test) - y_test"
   ]
  },
  {
   "cell_type": "code",
   "execution_count": 9,
   "metadata": {},
   "outputs": [
    {
     "data": {
      "text/plain": [
       "109"
      ]
     },
     "execution_count": 9,
     "metadata": {},
     "output_type": "execute_result"
    }
   ],
   "source": [
    "len(rfs.trajectory[3])"
   ]
  },
  {
   "cell_type": "code",
   "execution_count": null,
   "metadata": {},
   "outputs": [
    {
     "data": {
      "text/plain": [
       "set()"
      ]
     },
     "execution_count": 4,
     "metadata": {},
     "output_type": "execute_result"
    }
   ],
   "source": [
    "lasso.in"
   ]
  }
 ],
 "metadata": {
  "kernelspec": {
   "display_name": "sklearn-env",
   "language": "python",
   "name": "sklearn-env"
  },
  "language_info": {
   "codemirror_mode": {
    "name": "ipython",
    "version": 3
   },
   "file_extension": ".py",
   "mimetype": "text/x-python",
   "name": "python",
   "nbconvert_exporter": "python",
   "pygments_lexer": "ipython3",
   "version": "3.11.5"
  }
 },
 "nbformat": 4,
 "nbformat_minor": 2
}
