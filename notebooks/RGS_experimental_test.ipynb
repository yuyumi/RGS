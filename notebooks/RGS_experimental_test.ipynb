{
 "cells": [
  {
   "cell_type": "code",
   "execution_count": 1,
   "id": "e5327542",
   "metadata": {},
   "outputs": [],
   "source": [
    "import sys\n",
    "import numpy as np\n",
    "import pandas as pd\n",
    "from sklearn.model_selection import train_test_split\n",
    "from sklearn.preprocessing import StandardScaler\n",
    "from sklearn.linear_model import LassoCV, RidgeCV, ElasticNetCV\n",
    "from sklearn.metrics import mean_squared_error\n",
    "from tqdm.auto import tqdm\n",
    "from typing import List\n",
    "import time\n",
    "\n",
    "sys.path.append(\"../\")\n",
    "\n",
    "from RGS import FastRandomizedGreedySelection, RandomizedGreedySelection\n",
    "from RGS_experimental import FastRandomizedGreedySelectionCV\n",
    "from data_generator import *\n",
    "from data_plotting import *"
   ]
  },
  {
   "cell_type": "code",
   "execution_count": 2,
   "id": "b8a015f9",
   "metadata": {
    "scrolled": true
   },
   "outputs": [
    {
     "name": "stdout",
     "output_type": "stream",
     "text": [
      "True coefficients: [1.   0.5  0.25 0.   0.   0.   0.   0.   0.   0.   0.   0.   0.   0.\n",
      " 0.   0.   0.   0.   0.   0.  ]\n",
      "\n",
      "Selected k: 3\n",
      "Selected m: 20\n",
      "\n",
      "Learned coefficients: [0.99998206 0.50466162 0.25161512 0.         0.         0.\n",
      " 0.         0.         0.00560357 0.         0.         0.\n",
      " 0.         0.         0.         0.         0.         0.\n",
      " 0.         0.        ]\n"
     ]
    }
   ],
   "source": [
    "import numpy as np\n",
    "from sklearn.model_selection import KFold\n",
    "from RGS_experimental import FastRandomizedGreedySelectionCV\n",
    "\n",
    "# Set random seed for reproducibility \n",
    "rng = np.random.default_rng(42)\n",
    "\n",
    "# Generate synthetic data \n",
    "n_samples = 1000\n",
    "n_features = 20\n",
    "k_true = 3  # Only first 3 features are relevant\n",
    "\n",
    "# Generate features - now in sklearn convention (n_samples, n_features)\n",
    "X = rng.standard_normal((n_samples, n_features))\n",
    "\n",
    "# Generate target with only first k_true features being relevant\n",
    "true_coef = np.zeros(n_features)\n",
    "true_coef[:k_true] = [1.0, 0.5, 0.25]  # Decreasing importance\n",
    "noise = rng.standard_normal(n_samples) * 0.1\n",
    "y = X @ true_coef + noise\n",
    "\n",
    "# Initialize model\n",
    "k_max = 10\n",
    "m_grid = [1, 3, 5, 10, 15, 20]\n",
    "cv = KFold(n_splits=5, shuffle=True, random_state=42)\n",
    "model = FastRandomizedGreedySelectionCV(\n",
    "    k_max=k_max,\n",
    "    m_grid=m_grid,\n",
    "    n_replications=1000,\n",
    "    random_state=42,\n",
    "    cv=cv\n",
    ")\n",
    "\n",
    "# Fit model\n",
    "model.fit(X, y)\n",
    "\n",
    "# Print results\n",
    "print(\"True coefficients:\", true_coef)\n",
    "print(\"\\nSelected k:\", model.k_)\n",
    "print(\"Selected m:\", model.m_)\n",
    "print(\"\\nLearned coefficients:\", model.coef_[model.m_][model.k_])"
   ]
  },
  {
   "cell_type": "code",
   "execution_count": null,
   "id": "18ad0141",
   "metadata": {},
   "outputs": [],
   "source": []
  }
 ],
 "metadata": {
  "kernelspec": {
   "display_name": "Python 3 (ipykernel)",
   "language": "python",
   "name": "python3"
  },
  "language_info": {
   "codemirror_mode": {
    "name": "ipython",
    "version": 3
   },
   "file_extension": ".py",
   "mimetype": "text/x-python",
   "name": "python",
   "nbconvert_exporter": "python",
   "pygments_lexer": "ipython3",
   "version": "3.9.12"
  }
 },
 "nbformat": 4,
 "nbformat_minor": 5
}
