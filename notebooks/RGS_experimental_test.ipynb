{
 "cells": [
  {
   "cell_type": "code",
   "execution_count": 1,
   "id": "e5327542",
   "metadata": {},
   "outputs": [],
   "source": [
    "import sys\n",
    "import numpy as np\n",
    "import pandas as pd\n",
    "from sklearn.model_selection import train_test_split\n",
    "from sklearn.preprocessing import StandardScaler\n",
    "from sklearn.linear_model import LassoCV, RidgeCV, ElasticNetCV\n",
    "from sklearn.metrics import mean_squared_error\n",
    "from tqdm.auto import tqdm\n",
    "from typing import List\n",
    "import time\n",
    "\n",
    "sys.path.append(\"../\")\n",
    "\n",
    "from RGS import FastRandomizedGreedySelection, RandomizedGreedySelection\n",
    "from RGS_experimental import FastRandomizedGreedySelectionCV\n",
    "from data_generator import *\n",
    "from data_plotting import *"
   ]
  },
  {
   "cell_type": "code",
   "execution_count": 2,
   "id": "b8a015f9",
   "metadata": {
    "scrolled": true
   },
   "outputs": [
    {
     "ename": "KeyError",
     "evalue": "1",
     "output_type": "error",
     "traceback": [
      "\u001b[1;31m---------------------------------------------------------------------------\u001b[0m",
      "\u001b[1;31mKeyError\u001b[0m                                  Traceback (most recent call last)",
      "Input \u001b[1;32mIn [2]\u001b[0m, in \u001b[0;36m<cell line: 35>\u001b[1;34m()\u001b[0m\n\u001b[0;32m     26\u001b[0m model \u001b[38;5;241m=\u001b[39m FastRandomizedGreedySelectionCV(\n\u001b[0;32m     27\u001b[0m     k_max\u001b[38;5;241m=\u001b[39mk_max,\n\u001b[0;32m     28\u001b[0m     m_grid\u001b[38;5;241m=\u001b[39mm_grid,\n\u001b[1;32m   (...)\u001b[0m\n\u001b[0;32m     31\u001b[0m     cv\u001b[38;5;241m=\u001b[39mcv\n\u001b[0;32m     32\u001b[0m )\n\u001b[0;32m     34\u001b[0m \u001b[38;5;66;03m# Fit model\u001b[39;00m\n\u001b[1;32m---> 35\u001b[0m \u001b[43mmodel\u001b[49m\u001b[38;5;241;43m.\u001b[39;49m\u001b[43mfit\u001b[49m\u001b[43m(\u001b[49m\u001b[43mX\u001b[49m\u001b[43m,\u001b[49m\u001b[43m \u001b[49m\u001b[43my\u001b[49m\u001b[43m)\u001b[49m\n\u001b[0;32m     37\u001b[0m \u001b[38;5;66;03m# Print results\u001b[39;00m\n\u001b[0;32m     38\u001b[0m \u001b[38;5;28mprint\u001b[39m(\u001b[38;5;124m\"\u001b[39m\u001b[38;5;124mTrue coefficients:\u001b[39m\u001b[38;5;124m\"\u001b[39m, true_coef)\n",
      "File \u001b[1;32m~\\Documents\\Princeton\\Research\\RFS\\notebooks\\..\\RGS_experimental.py:83\u001b[0m, in \u001b[0;36mFastRandomizedGreedySelectionCV.fit\u001b[1;34m(self, X, y)\u001b[0m\n\u001b[0;32m     81\u001b[0m     y_train \u001b[38;5;241m=\u001b[39m y[train_ids]\n\u001b[0;32m     82\u001b[0m     y_val \u001b[38;5;241m=\u001b[39m y[val_ids]\n\u001b[1;32m---> 83\u001b[0m     \u001b[38;5;28;43mself\u001b[39;49m\u001b[38;5;241;43m.\u001b[39;49m\u001b[43mfit_fold\u001b[49m\u001b[43m(\u001b[49m\u001b[43mX_train\u001b[49m\u001b[43m,\u001b[49m\u001b[43m \u001b[49m\u001b[43my_train\u001b[49m\u001b[43m,\u001b[49m\u001b[43m \u001b[49m\u001b[43mX_val\u001b[49m\u001b[43m,\u001b[49m\u001b[43m \u001b[49m\u001b[43my_val\u001b[49m\u001b[43m)\u001b[49m\n\u001b[0;32m     85\u001b[0m \u001b[38;5;66;03m# Find best hyperparameters\u001b[39;00m\n\u001b[0;32m     86\u001b[0m \u001b[38;5;66;03m# print(\"\\nFinding best hyperparameters...\")\u001b[39;00m\n\u001b[0;32m     87\u001b[0m best_m \u001b[38;5;241m=\u001b[39m np\u001b[38;5;241m.\u001b[39marray([\u001b[38;5;28mmax\u001b[39m(\u001b[38;5;28mself\u001b[39m\u001b[38;5;241m.\u001b[39mcv_scores_[k], key\u001b[38;5;241m=\u001b[39m\u001b[38;5;28;01mlambda\u001b[39;00m m: np\u001b[38;5;241m.\u001b[39mmean(\u001b[38;5;28mself\u001b[39m\u001b[38;5;241m.\u001b[39mcv_scores_[k][m])) \n\u001b[0;32m     88\u001b[0m                 \u001b[38;5;28;01mfor\u001b[39;00m k \u001b[38;5;129;01min\u001b[39;00m \u001b[38;5;28mrange\u001b[39m(\u001b[38;5;241m1\u001b[39m, \u001b[38;5;28mself\u001b[39m\u001b[38;5;241m.\u001b[39mk_max\u001b[38;5;241m+\u001b[39m\u001b[38;5;241m1\u001b[39m)])\n",
      "File \u001b[1;32m~\\Documents\\Princeton\\Research\\RFS\\notebooks\\..\\RGS_experimental.py:147\u001b[0m, in \u001b[0;36mFastRandomizedGreedySelectionCV.fit_fold\u001b[1;34m(self, X_train, y_train, X_val, y_val)\u001b[0m\n\u001b[0;32m    145\u001b[0m feature_set_freqs \u001b[38;5;241m=\u001b[39m defaultdict(\u001b[38;5;28mdict\u001b[39m)\n\u001b[0;32m    146\u001b[0m \u001b[38;5;28;01mfor\u001b[39;00m m \u001b[38;5;129;01min\u001b[39;00m \u001b[38;5;28mself\u001b[39m\u001b[38;5;241m.\u001b[39mm_grid:\n\u001b[1;32m--> 147\u001b[0m     Ms \u001b[38;5;241m=\u001b[39m \u001b[38;5;28mlist\u001b[39m(\u001b[38;5;28;43mself\u001b[39;49m\u001b[38;5;241;43m.\u001b[39;49m\u001b[43mfeature_sets\u001b[49m\u001b[43m[\u001b[49m\u001b[43mk\u001b[49m\u001b[43m]\u001b[49m\u001b[43m[\u001b[49m\u001b[43mm\u001b[49m\u001b[43m]\u001b[49m\u001b[38;5;241m.\u001b[39mkeys())\n\u001b[0;32m    148\u001b[0m     freqs \u001b[38;5;241m=\u001b[39m \u001b[38;5;28mlist\u001b[39m(\u001b[38;5;28mself\u001b[39m\u001b[38;5;241m.\u001b[39mfeature_sets[k][m]\u001b[38;5;241m.\u001b[39mvalues())\n\u001b[0;32m    149\u001b[0m     \u001b[38;5;66;03m# print(f\"  m={m}: current feature sets: {[list(M) for M in Ms]}\")\u001b[39;00m\n",
      "\u001b[1;31mKeyError\u001b[0m: 1"
     ]
    }
   ],
   "source": [
    "import numpy as np\n",
    "from sklearn.model_selection import KFold\n",
    "from RGS_experimental import FastRandomizedGreedySelectionCV\n",
    "\n",
    "# Set random seed for reproducibility \n",
    "rng = np.random.default_rng(42)\n",
    "\n",
    "# Generate synthetic data \n",
    "n_samples = 1000\n",
    "n_features = 20\n",
    "k_true = 3  # Only first 3 features are relevant\n",
    "\n",
    "# Generate features - now in sklearn convention (n_samples, n_features)\n",
    "X = rng.standard_normal((n_samples, n_features))\n",
    "\n",
    "# Generate target with only first k_true features being relevant\n",
    "true_coef = np.zeros(n_features)\n",
    "true_coef[:k_true] = [1.0, 0.5, 0.25]  # Decreasing importance\n",
    "noise = rng.standard_normal(n_samples) * 0.1\n",
    "y = X @ true_coef + noise\n",
    "\n",
    "# Initialize model\n",
    "k_max = 10\n",
    "m_grid = [1, 3, 5]\n",
    "cv = KFold(n_splits=5, shuffle=True, random_state=42)\n",
    "model = FastRandomizedGreedySelectionCV(\n",
    "    k_max=k_max,\n",
    "    m_grid=m_grid,\n",
    "    n_estimators=100,\n",
    "    random_state=42,\n",
    "    cv=cv\n",
    ")\n",
    "\n",
    "# Fit model\n",
    "model.fit(X, y)\n",
    "\n",
    "# Print results\n",
    "print(\"True coefficients:\", true_coef)\n",
    "print(\"\\nSelected k:\", model.k_)\n",
    "print(\"Selected m:\", model.m_)\n",
    "print(\"\\nLearned coefficients:\", model.coef_[model.m_][model.k_])"
   ]
  },
  {
   "cell_type": "code",
   "execution_count": null,
   "id": "18ad0141",
   "metadata": {},
   "outputs": [],
   "source": []
  }
 ],
 "metadata": {
  "kernelspec": {
   "display_name": "Python 3 (ipykernel)",
   "language": "python",
   "name": "python3"
  },
  "language_info": {
   "codemirror_mode": {
    "name": "ipython",
    "version": 3
   },
   "file_extension": ".py",
   "mimetype": "text/x-python",
   "name": "python",
   "nbconvert_exporter": "python",
   "pygments_lexer": "ipython3",
   "version": "3.9.12"
  }
 },
 "nbformat": 4,
 "nbformat_minor": 5
}
